{
 "cells": [
  {
   "cell_type": "markdown",
   "id": "833ed23e",
   "metadata": {},
   "source": [
    "# 🎮 Pokemon shenanigans\n",
    "\n",
    "### Comparing Lists vs. Sets, using the zip() function and the random module\n",
    "\n",
    "Let's say that you're a pokemon trainer and you need to track the pokemon you've caught using lists and sets in Python. Perhaps then you'd like to organize a list of your pokemon by type. Then maybe you would like to pick a pokemon at random that you're going to send to a box from said list. \n",
    "\n",
    "We're going to look at that in this simple Notebook.\n",
    "\n",
    "\n",
    "\n",
    "\n",
    "<pre> \n",
    "\n",
    "\n",
    "⬜⬜⬜⬜⬜⬛⬛⬛⬛⬜⬜⬜⬜⬜\n",
    "⬜⬜⬜⬛⬛🟥🟥🟥🟥🟥⬛⬜⬜⬜\n",
    "⬜⬜⬛🟥🟥🟥🟥🟥🟥🟥🟥⬛⬜⬜\n",
    "⬜⬛🟥🟥🟥🟥🟥🟥🟥🟥🟥🟥⬛⬜\n",
    "⬜⬛🟥🟥🟥🟥🟥🟥🟥🟥🟥🟥⬛⬜\n",
    "⬛🟥🟥🟥🟥🟥⬛⬛🟥🟥🟥🟥🟥⬛\n",
    "⬛🟥🟥🟥🟥⬛⬜⬜⬛🟥🟥🟥🟥⬛\n",
    "⬛⬛⬛⬛⬛⬛⬜⬜⬛⬛⬛⬛⬛⬛\n",
    "⬛⬜⬜⬜⬜⬜⬛⬛⬜⬜⬜⬜⬜⬛\n",
    "⬜⬛⬜⬜⬜⬜⬜⬜⬜⬜⬜⬜⬛⬜\n",
    "⬜⬛⬜⬜⬜⬜⬜⬜⬜⬜⬜⬜⬛⬜\n",
    "⬜⬜⬛⬜⬜⬜⬜⬜⬜⬜⬜⬛⬜⬜\n",
    "⬜⬜⬜⬛⬛⬜⬜⬜⬜⬛⬛⬜⬜⬜\n",
    "⬜⬜⬜⬜⬜⬛⬛⬛⬛⬜⬜⬜⬜⬜\n",
    "\n",
    "\n",
    "</pre>\n",
    "\n",
    "## ··············································································································"
   ]
  },
  {
   "cell_type": "markdown",
   "id": "634eba82",
   "metadata": {},
   "source": [
    "<pre>\n",
    "⠀⠀⠀⠀⠀⠀⠀⠀⠀⠀⠀⠀⠀⠀⢠⣆⢀⣶⡶⠀⠀⠀⠀⠀⠀⠀⠀⠀⠀⠀\n",
    "⠀⠀⠀⠀⠀⠀⠀⠀⠀⠀⠀⠀⠀⠀⢈⣿⢸⠟⣠⣶⡷⠀⠀⠀⠀⠀⠀⠀⠀⠀\n",
    "⠀⠀⠀⠀⠀⠀⢀⣀⠀⢀⣠⠴⠴⠶⠚⠿⠿⠾⠭⣤⣀⠀⠀⠀⠀⠀⠀⠀⠀⠀\n",
    "⠀⠀⠀⠀⢀⠴⢋⡽⠚⠉⠀⠀⠀⠀⠀⠀⠀⠀⠀⠀⠈⠙⠢⣀⠀⠀⠀⠀⠀⠀\n",
    "⠀⠀⢀⡔⠁⡰⠋⠀⠀⠀⠀⠀⠀⠀⠀⠀⠀⠀⠀⠀⠀⠀⣴⠚⠛⣖⠀⠀⠀⠀\n",
    "⠀⢀⡏⠀⡼⢡⠚⡛⠒⣄⠀⠀⠀⠀⣠⠖⠛⠛⠲⡄⠐⢯⠁⠀⠀⠹⡧⠀⠀⠀\n",
    "⠀⣸⠀⠀⡇⠘⠦⣭⡤⢟⡤⠤⣀⠀⠣⣀⡉⢁⣀⠟⠀⠀⢷⠀⠀⠀⠙⣗⠀⠀\n",
    "⠁⢻⠀⠀⢷⢀⡔⠉⢻⡅⣀⣤⡈⠙⠒⠺⠯⡍⠁⠀⠀⠀⢸⡆⠀⠀⠀⠘⡶⠄\n",
    "⠀⣈⣧⠴⠚⠉⠀⠀⠀⠀⠀⠀⠀⠀⠀⢀⣰⠃⠀⠀⠀⠀⣸⡇⠀⠀⠀⠀⠸⣔\n",
    "⣾⠋⠀⠀⠀⠀⠀⠀⠀⠀⠀⠀⠀⠀⠀⣿⣧⣤⡤⠴⠖⠋⢹⠃⠀⠀⠀⠀⠀⣷\n",
    "⣿⡀⠀⠀⠀⠀⠀⠀⠀⠀⠀⠀⠀⠀⠐⣻⠁⠀⠀⠀⠀⠀⣿⠀⠀⠀⠀⠀⠀⣼\n",
    "⠙⠑⣤⣀⠀⠀⠀⠀⠀⢀⠀⠀⢄⣐⠴⠋⠀⠀⠀⠀⠀⠀⠘⢆⠀⠀⠀⠀⣰⠟\n",
    "⠀⠀⠀⣑⡟⠛⠛⠛⠛⠛⠛⠉⠉⠀⠀⠀⠀⠀⠀⠀⠀⠀⠀⠀⠀⠀⢴⡾⠋⠀\n",
    "⠀⠀⠀⡾⠀⠀⠀⠀⠀⠀⠀⠀⠀⠀⠀⠀⠀⠀⠀⠀⠀⠀⠀⠀⠀⠀⠘⡇⠀⠀\n",
    "⠀⠀⣰⡇⠀⠀⠀⠀⠀⠀⠀⠀⠀⠀⠀⠀⠀⠀⠀⠀⠀⠀⠀⠀⠀⠀⠀⡇⠀⠀\n",
    "⠀⠀⠸⡇⠀⠀⠀⠀⠀⠀⠀⠀⠀⠀⠀⠀⠀⠀⠀⠀⠀⠀⠀⠀⠀⠀⢰⠃⠀⠃\n",
    "</pre>\n",
    "\n",
    "# 🔴⚪1. Lists vs. Sets\n",
    "\n",
    "A list allows for duplicate Pokemon, and preserves the order in which you caught them.\n",
    "On the other hand, a set prevents duplicates and does not guarantee order.\n",
    "In real Pokemon games, you can have multiple of the same Pokemon, which makes lists a better representation."
   ]
  },
  {
   "cell_type": "code",
   "execution_count": 6,
   "id": "82d1f07b",
   "metadata": {},
   "outputs": [
    {
     "name": "stdout",
     "output_type": "stream",
     "text": [
      "\n",
      "What is the name of the Pokemon you caught? Pikachu\n",
      "\n",
      "Successfully added Pikachu to the list and the set\n",
      "\n",
      "The Pokemon currently in the list are: ['Pikachu']\n",
      "The Pokemon currently in the set are: {'Pikachu'}\n",
      "\n",
      "Catch another? (yes/no): yes\n",
      "\n",
      "What is the name of the Pokemon you caught? Piplu\n",
      "\n",
      "Successfully added Piplu to the list and the set\n",
      "\n",
      "The Pokemon currently in the list are: ['Pikachu', 'Piplu']\n",
      "The Pokemon currently in the set are: {'Pikachu', 'Piplu'}\n",
      "\n",
      "Catch another? (yes/no): no\n"
     ]
    },
    {
     "data": {
      "text/plain": [
       "\"The final list and set: ['Pikachu', 'Piplu'], {'Pikachu', 'Piplu'}\""
      ]
     },
     "execution_count": 6,
     "metadata": {},
     "output_type": "execute_result"
    }
   ],
   "source": [
    "#Catching Pokemon and storing them to a list and to a set\n",
    "#Note how the list allows for duplicates at the end, while the set does not\n",
    "#Note how the list entries are in order of entry, while the set entries are not\n",
    "#A list would be more realistic to how you'd catch Pokemon because you are allowed to have duplicates in the game\n",
    "\n",
    "\n",
    "def get_pokemon():\n",
    "    pocketMonster = input(\"\\nWhat is the name of the Pokemon you caught? \")\n",
    "    return pocketMonster\n",
    "\n",
    "def catch_pokemon():\n",
    "    poke_list = []   #Empty Pokemon list\n",
    "    poke_set = set()   #Empty Pokemon Set\n",
    "    \n",
    "    while True:\n",
    "        pokemon = get_pokemon().capitalize()   #Storing the user's input into a variable\n",
    "        poke_list.append(pokemon)   #Adding the Pokemon to the List\n",
    "        poke_set.add(pokemon)   #Adding the Pokemon to the Set\n",
    "        \n",
    "        print(f\"\\nSuccessfully added {pokemon} to the list and the set\\n\")\n",
    "        print (f\"The Pokemon currently in the list are: {poke_list}\")\n",
    "        print (f\"The Pokemon currently in the set are: {poke_set}\\n\")\n",
    "       \n",
    "        another = input(\"Catch another? (yes/no): \").strip().lower()   #Asks user if they want to add another Pokemon\n",
    "        if another !=\"yes\":\n",
    "            break\n",
    "            \n",
    "    return (f\"The final list and set: {poke_list}, {poke_set}\")\n",
    "\n",
    "\n",
    "\n",
    "#Calling the function\n",
    "catch_pokemon() "
   ]
  },
  {
   "cell_type": "markdown",
   "id": "749c338b",
   "metadata": {},
   "source": [
    "## ··············································································································\n",
    "\n",
    "<pre>\n",
    "⠀⠀⠀⠀⠀⠀⠀⠀⠀⠀⠀⠀⠀⠀⠀⠀⢀⡴⠞⢳⠀⠀⠀⠀⠀\n",
    "⠀⠀⠀⠀⠀⠀⠀⠀⠀⠀⠀⠀⠀⠀⠀⡔⠋⠀⢰⠎⠀⠀⠀⠀⠀\n",
    "⠀⠀⠀⠀⠀⠀⠀⠀⠀⠀⠀⠀⠀⠀⣼⢆⣤⡞⠃⠀⠀⠀⠀⠀⠀\n",
    "⠀⠀⠀⠀⠀⠀⠀⠀⠀⠀⠀⠀⠀⣼⢠⠋⠁⠀⠀⠀⠀⠀⠀⠀⠀\n",
    "⠀⠀⠀⠀⢀⣀⣾⢳⠀⠀⠀⠀⢸⢠⠃⠀⠀⠀⠀⠀⠀⠀⠀⠀⠀\n",
    "⣀⡤⠴⠊⠉⠀⠀⠈⠳⡀⠀⠀⠘⢎⠢⣀⣀⣀⠀⠀⠀⠀⠀⠀⠀\n",
    "⠳⣄⠀⠀⡠⡤⡀⠀⠘⣇⡀⠀⠀⠀⠉⠓⠒⠺⠭⢵⣦⡀⠀⠀⠀\n",
    "⠀⢹⡆⠀⢷⡇⠁⠀⠀⣸⠇⠀⠀⠀⠀⠀⢠⢤⠀⠀⠘⢷⣆⡀⠀\n",
    "⠀⠀⠘⠒⢤⡄⠖⢾⣭⣤⣄⠀⡔⢢⠀⡀⠎⣸⠀⠀⠀⠀⠹⣿⡀\n",
    "⠀⠀⢀⡤⠜⠃⠀⠀⠘⠛⣿⢸⠀⡼⢠⠃⣤⡟⠀⠀⠀⠀⠀⣿⡇\n",
    "⠀⠀⠸⠶⠖⢏⠀⠀⢀⡤⠤⠇⣴⠏⡾⢱⡏⠁⠀⠀⠀⠀⢠⣿⠃\n",
    "⠀⠀⠀⠀⠀⠈⣇⡀⠿⠀⠀⠀⡽⣰⢶⡼⠇⠀⠀⠀⠀⣠⣿⠟⠀\n",
    "⠀⠀⠀⠀⠀⠀⠈⠳⢤⣀⡶⠤⣷⣅⡀⠀⠀⠀⣀⡠⢔⠕⠁⠀⠀\n",
    "⠀⠀⠀⠀⠀⠀⠀⠀⠀⠀⠀⠀⠈⠙⠫⠿⠿⠿⠛⠋⠁⠀⠀⠀⠀\n",
    "</pre>\n",
    "\n",
    "\n",
    "\n",
    "# ⚡ 2. Organizing Pokemon by type using zip()\n",
    "\n",
    "Using the zip() function, we can pair Pokemon with their types and organize them."
   ]
  },
  {
   "cell_type": "code",
   "execution_count": 7,
   "id": "af542df6",
   "metadata": {},
   "outputs": [
    {
     "name": "stdout",
     "output_type": "stream",
     "text": [
      "Pikachu is of the Electric type.\n",
      "Charmander is of the Fire type.\n",
      "Espeon is of the Psychic type.\n",
      "Piplup is of the Water type.\n",
      "Ditto is of the Normal type.\n"
     ]
    }
   ],
   "source": [
    "#Organizing Pokemon by type using zip()\n",
    "\n",
    "def organize_pokemon(poke_list, poke_type):\n",
    "    pokemon_types = zip(poke_list, poke_type)\n",
    "    for poke,type in pokemon_types:\n",
    "        print(f\"{poke} is of the {type} type.\")\n",
    "        \n",
    "pokemon = [\"Pikachu\",\"Charmander\",\"Espeon\",\"Piplup\", \"Ditto\"]\n",
    "types = [\"Electric\",\"Fire\",\"Psychic\",\"Water\",\"Normal\"]\n",
    "\n",
    "organize_pokemon(pokemon, types)"
   ]
  },
  {
   "cell_type": "markdown",
   "id": "46b28b4f",
   "metadata": {},
   "source": [
    "Now we can make this nice little table:\n",
    "\n",
    "\n",
    "| Pokémon    | Type      |\n",
    "|:-----------|:---------|\n",
    "| Pikachu    | ⚡ Electric  |\n",
    "| Charmander | 🔥 Fire     |\n",
    "| Espeon     | 🔮 Psychic  |\n",
    "| Piplup     | 💧 Water    |\n",
    "| Ditto      | 🔁 Normal   |\n",
    "\n",
    "\n"
   ]
  },
  {
   "cell_type": "markdown",
   "id": "5f9c65d7",
   "metadata": {},
   "source": [
    "## ··············································································································\n",
    "\n",
    "<pre>\n",
    "⠀⠀⠀⠀⠀⠀⠀⠀⠀⢀⣀⣀⡠⠖⢉⣌⢆⠀⠀⠀⠀⠀\n",
    "⠀⠀⠀⠀⠀⠀⠀⣠⠚⠉⠀⠈⠉⠲⣿⣿⡜⡀⠀⠀⠀⠀\n",
    "⡔⢉⣙⣓⣒⡲⠮⡇⠀⠀⠀⠀⠀⠀⠘⡿⡇⡇⠀⠀⠀⠀\n",
    "⡇⠘⣿⣿⣿⠏⠀⠀⠠⣀⡀⠀⠀⠀⠀⡇⠈⠳⡄⠀⠀⠀\n",
    "⢹⠀⢻⣿⠇⠀⠀⣀⣀⠀⡍⠃⠀⠀⣠⣷⡟⢳⡜⡄⠀⠀\n",
    "⠈⣆⠀⠋⢀⢔⣵⣿⠋⠹⣿⠒⠒⠚⠁⣿⣿⣾⣷⢸⠤⡄\n",
    "⠀⡇⠀⠀⢸⢸⣿⣿⣶⣾⡏⡇⠀⠀⢀⡘⣝⠿⡻⢸⡰⠁\n",
    "⠀⢳⠀⠀⠈⢆⠻⢿⡿⠟⡱⠁⠰⠛⢿⡇⠀⠉⠀⡸⠁⠀\n",
    "⠀⠈⢆⠀⠀⠀⠉⠒⠒⣉⡀⠀⠀⢇⠀⡇⠀⠀⢠⠃⠀⠀\n",
    "⠀⠀⠈⠣⡀⠀⠀⠀⠀⠀⢉⡱⠀⠀⠉⠀⢀⡴⠁⠀⠀⠀\n",
    "⠀⠀⠀⠀⠈⠓⠦⣀⣉⡉⠁⢀⣀⣠⠤⠒⠥⣄⠀⠀⠀⠀\n",
    "⠀⠀⠀⠀⠀⠰⣉⣀⣀⡠⠭⠛⠀⠀⠑⠒⠤⠤⠷⠀⠀⠀\n",
    "</pre>\n",
    "\n",
    "\n",
    "# 🎲 3. Choosing a Random Pokémon\n",
    "\n",
    "Let's say you don't want to use a Pokemon anymore, you can send it to a box. If you really love all your Pokemon, and you can't bring yourself to put one in jail, this code using the random module can help make that choice for you."
   ]
  },
  {
   "cell_type": "code",
   "execution_count": 8,
   "id": "410a1d0c",
   "metadata": {},
   "outputs": [
    {
     "data": {
      "text/plain": [
       "'Bewear'"
      ]
     },
     "execution_count": 8,
     "metadata": {},
     "output_type": "execute_result"
    }
   ],
   "source": [
    "#Basic function to choose a random Pokemon from a list\n",
    "\n",
    "import random\n",
    "def random_pokemon(poke_list):\n",
    "    randomized_poke = random.choice(poke_list)\n",
    "    \n",
    "    return randomized_poke\n",
    "random_poke_list = [\"Pikachu\",\"Charmander\",\"Espeon\",\"Piplup\", \"Ditto\", \"Psyuck\",\"Bewear\",\"Espeon\",\"Drowzee\",\"Eevee\"]    \n",
    "random_pokemon(random_poke_list) #Calling the function using the same list as the zip() code"
   ]
  },
  {
   "cell_type": "markdown",
   "id": "63e7a112",
   "metadata": {},
   "source": [
    "## ··············································································································\n",
    "\n",
    "\n",
    "## Thank you! 🔴⚪\n",
    "<pre>\n",
    "\n",
    "\n",
    "⠀⠀⠀⠀⠀⠀⠀⠀⠀⠀⠀⠀⢀⣴⡆⠀⠀⠀⠀⠀⠀⠀⠀⠀⠀⠀⠀⠀⠀⠀⠀⠀⠀⠀⠀⠀⠀⠀⠀⠀⠀⠀⠀⠀⠀⠀\n",
    "⠀⠀⠀⠀⠀⠀⠀⠀⠀⠀⠀⢀⣾⣿⣧⠀⠀⠀⠀⠀⠀⠀⠀⠀⠀⠀⠀⠀⠀⠀⠀⠀⠀⠀⠀⠀⠀⠀⠀⠀⠀⠀⠀⠀⠀⠀\n",
    "⠀⠀⠀⠀⠀⠀⠀⠀⠀⠀⢀⣾⣿⣿⣿⠀⠀⠀⠀⠀⠀⠀⠀⠀⠀⠀⠀⠀⠀⠀⠀⠀⠀⠀⠀⠀⠀⠀⠀⠀⠀⠀⠀⠀⠀⠀\n",
    "⠀⠀⠀⠀⠀⠀⠀⠀⠀⠀⡾⠋⠉⠀⡇⠀⠀⠀⠀⠀⠀⠀⠀⠀⠀⠀⠀⠀⠀⠀⠀⠀⠀⠀⠀⠀⠀⠀⠀⠀⠀⠀⠀⠀⠀⠀\n",
    "⠀⠀⠀⠀⠀⠀⠀⠀⠀⣼⠃⠀⠀⠀⡇⠀⠀⠀⠀⠀⠀⣠⠖⠲⢤⡖⠒⣆⠀⠀⠀⠀⠀⠀⠀⠀⠀⠀⠀⠀⠀⠀⠀⠀⠀⠀\n",
    "⠀⠀⠀⠀⠀⠀⠀⠀⢀⡏⠀⠀⠀⠀⡇⠀⠀⠀⠀⠀⠀⡏⠀⠀⠀⠀⠀⢀⡇⠀⠀⠀⠀⠀⠀⠀⠀⠀⠀⠀⠀⠀⠀⠀⠀⠀\n",
    "⠀⠀⠀⠀⢀⣀⠀⠀⢸⠀⠀⠀⠀⠀⡇⠀⠀⠀⠀⠀⠀⠸⣄⠀⠁⣠⠞⠉⠀⠀⠀⠀⠀⠀⠀⠀⢀⣀⣀⣠⣤⣤⣤⣤⠀⠀\n",
    "⠀⡞⠉⠻⠁⢹⠀⠀⡏⠀⠀⠀⠀⢸⠃⠀⠀⠀⠀⠀⠀⠀⠀⠹⣶⠋⠀⠀⠀⠀⣀⡤⠴⠒⠊⠉⠉⠀⠀⣿⣿⣿⠿⠋⠀⠀\n",
    "⠀⠳⢤⡀⠀⡞⠁⠀⡇⠀⠀⢀⡠⠼⠴⠒⠒⠒⠒⠦⠤⠤⣄⣀⠀⢀⣠⠴⠚⠉⠀⠀⠀⠀⠀⠀⠀⠀⣼⠿⠋⠁⠀⠀⠀⠀\n",
    "⠀⠀⠀⠈⠷⡏⠀⠀⣇⠔⠂⠈⠀⠀⠀⠀⠀⠀⠀⠀⠀⠀⠀⢨⠿⠋⠀⠀⠀⠀⠀⠀⠀⠀⣀⡤⠖⠋⠁⠀⠀⠀⠀⠀⠀⠀\n",
    "⠀⠀⠀⠀⠀⠀⠀⢰⠋⠀⠀⠀⠀⠀⠀⠀⠀⠀⠀⠀⠀⠀⠀⠀⠀⠀⠀⠀⠀⣀⣠⠤⠒⠋⠁⠀⠀⠀⠀⠀⠀⠀⠀⠀⠀⠀\n",
    "⠀⠀⠀⠀⠀⠀⢀⡟⠀⣠⣄⡀⠀⠀⠀⠀⠀⠀⠀⠀⠀⠀⠀⠀⠀⠀⠈⠉⢻⠁⠀⠀⠀⠀⠀⠀⠀⠀⠀⢀⣠⣤⣤⡤⠤⢴\n",
    "⠀⠀⠀⠀⠀⠀⣸⠁⣾⣿⣀⣽⡆⠀⠀⠀⠀⠀⠀⠀⢠⣾⠉⢿⣦⠀⠀⠀⢸⡀⠀⠀⢀⣠⠤⠔⠒⠋⠉⠉⠀⠀⠀⠀⢀⡞\n",
    "⠀⠀⠀⠀⠀⢀⡏⠀⠹⠿⠿⠟⠁⠀⠰⠦⠀⠀⠀⠀⠸⣿⣿⣿⡿⠀⠀⠀⢘⡧⠖⠋⠁⠀⠀⠀⠀⠀⠀⠀⠀⠀⠀⠀⡼⠀\n",
    "⠀⠀⠀⠀⠀⣼⠦⣄⠀⠀⢠⣀⣀⣴⠟⠶⣄⡀⠀⠀⡀⠀⠉⠁⠀⠀⠀⠀⢸⠇⠀⠀⠀⠀⠀⠀⠀⠀⠀⠀⠀⠀⠀⣸⠁⠀\n",
    "⠀⠀⠀⠀⢰⡇⠀⠈⡇⠀⠀⠸⡾⠁⠀⠀⠀⠉⠉⡏⠀⠀⠀⣠⠖⠉⠓⢤⢸⠀⠀⠀⠀⠀⠀⠀⠀⠀⠀⠀⠀⠀⣰⠃⠀⠀\n",
    "⠀⠀⠀⠀⠀⢧⣀⡼⠃⠀⠀⠀⢧⠀⠀⠀⠀⠀⢸⠃⠀⠀⠀⣧⠀⠀⠀⣸⢹⠀⠀⠀⠀⠀⠀⠀⠀⠀⠀⠀⠀⡰⠃⠀⠀⠀\n",
    "⠀⠀⠀⠀⠀⠈⢧⡀⠀⠀⠀⠀⠘⣆⠀⠀⠀⢠⠏⠀⠀⠀⠀⠈⠳⠤⠖⠃⡟⠀⠀⠀⢾⠛⠛⠛⠛⠛⠛⠛⠛⠁⠀⠀⠀⠀\n",
    "⠀⠀⠀⠀⠀⠀⠀⠙⣆⠀⠀⠀⠀⠈⠦⣀⡴⠋⠀⠀⠀⠀⠀⠀⠀⠀⢀⣼⠙⢦⠀⠀⠘⡇⠀⠀⠀⠀⠀⠀⢀⣀⠀⠀⠀⠀\n",
    "⠀⠀⠀⠀⠀⠀⠀⢠⡇⠙⠦⣄⠀⠀⠀⠀⠀⠀⠀⠀⠀⠀⠀⢀⣠⠴⠋⠸⡇⠈⢳⡀⠀⢹⡀⠀⠀⠀⢀⡞⠁⠉⣇⣀⠀⠀\n",
    "⠀⠀⠀⠀⠀⠀⠀⡼⣀⠀⠀⠈⠙⠂⠀⠀⠀⠀⠀⠀⠀⠀⠀⠉⠀⠀⠀⠀⣷⠴⠚⠁⠀⣀⣷⠀⠀⠀⢠⠇⠀⠀⠀⠀⠀⣳\n",
    "⠀⠀⠀⠀⠀⠀⡴⠁⡏⠀⠀⠀⠀⠀⠀⠀⠀⠀⠀⠀⠀⠀⠀⠀⠀⠀⠀⠀⠘⣆⡴⠚⠉⠉⠀⠀⠀⠀⢸⠃⣀⣠⠤⠤⠖⠋\n",
    "⣼⢷⡆⠀⣠⡴⠧⣄⣇⠀⠀⠀⠀⡴⠚⠙⠲⠞⠛⠙⡆⠀⠀⠀⠀⠀⢀⡇⣠⣽⢦⣄⢀⣴⣶⠀⠋⠉⠀⠀⠀⠀⠀⠀⠀⠀\n",
    "⡿⣼⣽⡞⠁⠀⠀⠀⢹⡀⠀⠀⠀⢹⠀⠀⠀⠀⠀⠀⣸⠀⠀⠀⠀⠀⣼⠉⠁⠀⠀⢠⢟⣿⣿⠁⠀⠀⠀⠀⠀⠀⠀⠀⠀⠀\n",
    "⣷⠉⠁⢳⠀⠀⠀⠀⠈⣧⠀⠀⠀⠀⠙⢦⠀⠀⠀⡠⠁⠀⠀⠀⠀⣰⠃⠀⠀⠀⠀⠏⠀⠀⡿⠀⠀⠀⠀⠀⠀⠀⠀⠀⠀⠀\n",
    "⠹⡆⠀⠈⡇⠀⠀⠀⠀⠘⣆⠀⠀⠀⠀⠀⠹⣧⠞⠁⠀⠀⠀⠀⣰⠃⠀⠀⠀⠀⠀⠀⠀⣸⠁⠀⠀⠀⠀⠀⠀⠀⠀⠀⠀⠀\n",
    "⠀⢳⡀⠀⠙⠀⠀⠀⠀⠀⠘⣆⠀⠀⠀⠀⠀⡇⠀⠀⠀⠀⠀⣰⠃⠀⠀⠀⠀⢀⡄⠀⢠⠇⠀⠀⠀⠀⠀⠀⠀⠀⠀⠀⠀⠀\n",
    "⠀⠀⢳⡀⣰⣀⣀⣀⠀⠀⠀⠘⣦⣀⠀⠀⠀⡇⠀⠀⠀⢀⡴⠃⠀⠀⠀⠀⠀⢸⡇⢠⠏⠀⠀⠀⠀⠀⠀⠀⠀⠀⠀⠀⠀⠀\n",
    "⠀⠀⠀⠉⠉⠀⠀⠈⠉⠉⠉⠙⠻⠿⠾⠾⠻⠓⢦⠦⡶⡶⠿⠛⠛⠓⠒⠒⠚⠛⠛⠁\n",
    "</pre>⠀⠀⠀⠀⠀\n",
    "## ··············································································································"
   ]
  },
  {
   "cell_type": "code",
   "execution_count": null,
   "id": "89b4becf",
   "metadata": {},
   "outputs": [],
   "source": []
  }
 ],
 "metadata": {
  "kernelspec": {
   "display_name": "Python 3 (ipykernel)",
   "language": "python",
   "name": "python3"
  },
  "language_info": {
   "codemirror_mode": {
    "name": "ipython",
    "version": 3
   },
   "file_extension": ".py",
   "mimetype": "text/x-python",
   "name": "python",
   "nbconvert_exporter": "python",
   "pygments_lexer": "ipython3",
   "version": "3.7.0"
  }
 },
 "nbformat": 4,
 "nbformat_minor": 5
}
